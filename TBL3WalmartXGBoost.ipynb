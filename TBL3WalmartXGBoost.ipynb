{
  "nbformat": 4,
  "nbformat_minor": 0,
  "metadata": {
    "colab": {
      "provenance": []
    },
    "kernelspec": {
      "name": "python3",
      "display_name": "Python 3"
    },
    "language_info": {
      "name": "python"
    }
  },
  "cells": [
    {
      "cell_type": "markdown",
      "source": [
        "UNIVERSIDADE FEDERAL DE ALFENAS\n",
        "> TRABALHO DE INTELIGENCIA ARTIFICIAL\n",
        "\n",
        "\n",
        "> Componentes:\n",
        "\n",
        "*   Bárbara Rodrigues Silveira - 2021.1.08.042\n",
        "*   Renan Magalhães Lage - 2021.1.08.020"
      ],
      "metadata": {
        "id": "r1igG86RlioI"
      }
    },
    {
      "cell_type": "markdown",
      "source": [
        "# Configurando o Drive"
      ],
      "metadata": {
        "id": "EAIUy91WCHiM"
      }
    },
    {
      "cell_type": "code",
      "execution_count": null,
      "metadata": {
        "colab": {
          "base_uri": "https://localhost:8080/"
        },
        "id": "Kl-F524qlfOH",
        "outputId": "a4ab7885-3db2-44b6-e09a-38bf6d8c47aa"
      },
      "outputs": [
        {
          "output_type": "stream",
          "name": "stdout",
          "text": [
            "Mounted at /content/drive\n"
          ]
        }
      ],
      "source": [
        "#Configurando o drive\n",
        "from google.colab import drive\n",
        "drive.mount('/content/drive')"
      ]
    },
    {
      "cell_type": "code",
      "source": [
        "#Obtendo os dados do arquivo\n",
        "from sklearn.preprocessing import LabelEncoder\n",
        "from sklearn.model_selection import train_test_split\n",
        "import pandas as pd\n",
        "import matplotlib.pyplot as plt\n",
        "import datetime\n",
        "import seaborn as sns\n",
        "import numpy as np\n",
        "import sklearn\n",
        "sns.set()\n",
        "url_dataset= \"/content/drive/MyDrive/IA/Walmart.csv\"\n",
        "data = pd.read_csv(url_dataset)\n",
        "data.head()"
      ],
      "metadata": {
        "id": "vx1bAL_7lprx",
        "colab": {
          "base_uri": "https://localhost:8080/",
          "height": 314
        },
        "outputId": "45dc9652-438f-47c9-fa03-491485c1922b"
      },
      "execution_count": null,
      "outputs": [
        {
          "output_type": "execute_result",
          "data": {
            "text/plain": [
              "   Store        Date  Weekly_Sales  Holiday_Flag  Temperature  Fuel_Price  \\\n",
              "0      1  05-02-2010    1643690.90             0        42.31       2.572   \n",
              "1      1  12-02-2010    1641957.44             1        38.51       2.548   \n",
              "2      1  19-02-2010    1611968.17             0        39.93       2.514   \n",
              "3      1  26-02-2010    1409727.59             0        46.63       2.561   \n",
              "4      1  05-03-2010    1554806.68             0        46.50       2.625   \n",
              "\n",
              "          CPI  Unemployment  \n",
              "0  211.096358         8.106  \n",
              "1  211.242170         8.106  \n",
              "2  211.289143         8.106  \n",
              "3  211.319643         8.106  \n",
              "4  211.350143         8.106  "
            ],
            "text/html": [
              "\n",
              "\n",
              "  <div id=\"df-a0b1addc-ebfd-4c21-b5fc-94d3a80777e5\">\n",
              "    <div class=\"colab-df-container\">\n",
              "      <div>\n",
              "<style scoped>\n",
              "    .dataframe tbody tr th:only-of-type {\n",
              "        vertical-align: middle;\n",
              "    }\n",
              "\n",
              "    .dataframe tbody tr th {\n",
              "        vertical-align: top;\n",
              "    }\n",
              "\n",
              "    .dataframe thead th {\n",
              "        text-align: right;\n",
              "    }\n",
              "</style>\n",
              "<table border=\"1\" class=\"dataframe\">\n",
              "  <thead>\n",
              "    <tr style=\"text-align: right;\">\n",
              "      <th></th>\n",
              "      <th>Store</th>\n",
              "      <th>Date</th>\n",
              "      <th>Weekly_Sales</th>\n",
              "      <th>Holiday_Flag</th>\n",
              "      <th>Temperature</th>\n",
              "      <th>Fuel_Price</th>\n",
              "      <th>CPI</th>\n",
              "      <th>Unemployment</th>\n",
              "    </tr>\n",
              "  </thead>\n",
              "  <tbody>\n",
              "    <tr>\n",
              "      <th>0</th>\n",
              "      <td>1</td>\n",
              "      <td>05-02-2010</td>\n",
              "      <td>1643690.90</td>\n",
              "      <td>0</td>\n",
              "      <td>42.31</td>\n",
              "      <td>2.572</td>\n",
              "      <td>211.096358</td>\n",
              "      <td>8.106</td>\n",
              "    </tr>\n",
              "    <tr>\n",
              "      <th>1</th>\n",
              "      <td>1</td>\n",
              "      <td>12-02-2010</td>\n",
              "      <td>1641957.44</td>\n",
              "      <td>1</td>\n",
              "      <td>38.51</td>\n",
              "      <td>2.548</td>\n",
              "      <td>211.242170</td>\n",
              "      <td>8.106</td>\n",
              "    </tr>\n",
              "    <tr>\n",
              "      <th>2</th>\n",
              "      <td>1</td>\n",
              "      <td>19-02-2010</td>\n",
              "      <td>1611968.17</td>\n",
              "      <td>0</td>\n",
              "      <td>39.93</td>\n",
              "      <td>2.514</td>\n",
              "      <td>211.289143</td>\n",
              "      <td>8.106</td>\n",
              "    </tr>\n",
              "    <tr>\n",
              "      <th>3</th>\n",
              "      <td>1</td>\n",
              "      <td>26-02-2010</td>\n",
              "      <td>1409727.59</td>\n",
              "      <td>0</td>\n",
              "      <td>46.63</td>\n",
              "      <td>2.561</td>\n",
              "      <td>211.319643</td>\n",
              "      <td>8.106</td>\n",
              "    </tr>\n",
              "    <tr>\n",
              "      <th>4</th>\n",
              "      <td>1</td>\n",
              "      <td>05-03-2010</td>\n",
              "      <td>1554806.68</td>\n",
              "      <td>0</td>\n",
              "      <td>46.50</td>\n",
              "      <td>2.625</td>\n",
              "      <td>211.350143</td>\n",
              "      <td>8.106</td>\n",
              "    </tr>\n",
              "  </tbody>\n",
              "</table>\n",
              "</div>\n",
              "      <button class=\"colab-df-convert\" onclick=\"convertToInteractive('df-a0b1addc-ebfd-4c21-b5fc-94d3a80777e5')\"\n",
              "              title=\"Convert this dataframe to an interactive table.\"\n",
              "              style=\"display:none;\">\n",
              "\n",
              "  <svg xmlns=\"http://www.w3.org/2000/svg\" height=\"24px\"viewBox=\"0 0 24 24\"\n",
              "       width=\"24px\">\n",
              "    <path d=\"M0 0h24v24H0V0z\" fill=\"none\"/>\n",
              "    <path d=\"M18.56 5.44l.94 2.06.94-2.06 2.06-.94-2.06-.94-.94-2.06-.94 2.06-2.06.94zm-11 1L8.5 8.5l.94-2.06 2.06-.94-2.06-.94L8.5 2.5l-.94 2.06-2.06.94zm10 10l.94 2.06.94-2.06 2.06-.94-2.06-.94-.94-2.06-.94 2.06-2.06.94z\"/><path d=\"M17.41 7.96l-1.37-1.37c-.4-.4-.92-.59-1.43-.59-.52 0-1.04.2-1.43.59L10.3 9.45l-7.72 7.72c-.78.78-.78 2.05 0 2.83L4 21.41c.39.39.9.59 1.41.59.51 0 1.02-.2 1.41-.59l7.78-7.78 2.81-2.81c.8-.78.8-2.07 0-2.86zM5.41 20L4 18.59l7.72-7.72 1.47 1.35L5.41 20z\"/>\n",
              "  </svg>\n",
              "      </button>\n",
              "\n",
              "\n",
              "\n",
              "    <div id=\"df-5e1814f1-6c19-4e50-bb7d-6ae02f8fdff0\">\n",
              "      <button class=\"colab-df-quickchart\" onclick=\"quickchart('df-5e1814f1-6c19-4e50-bb7d-6ae02f8fdff0')\"\n",
              "              title=\"Suggest charts.\"\n",
              "              style=\"display:none;\">\n",
              "\n",
              "<svg xmlns=\"http://www.w3.org/2000/svg\" height=\"24px\"viewBox=\"0 0 24 24\"\n",
              "     width=\"24px\">\n",
              "    <g>\n",
              "        <path d=\"M19 3H5c-1.1 0-2 .9-2 2v14c0 1.1.9 2 2 2h14c1.1 0 2-.9 2-2V5c0-1.1-.9-2-2-2zM9 17H7v-7h2v7zm4 0h-2V7h2v10zm4 0h-2v-4h2v4z\"/>\n",
              "    </g>\n",
              "</svg>\n",
              "      </button>\n",
              "    </div>\n",
              "\n",
              "<style>\n",
              "  .colab-df-quickchart {\n",
              "    background-color: #E8F0FE;\n",
              "    border: none;\n",
              "    border-radius: 50%;\n",
              "    cursor: pointer;\n",
              "    display: none;\n",
              "    fill: #1967D2;\n",
              "    height: 32px;\n",
              "    padding: 0 0 0 0;\n",
              "    width: 32px;\n",
              "  }\n",
              "\n",
              "  .colab-df-quickchart:hover {\n",
              "    background-color: #E2EBFA;\n",
              "    box-shadow: 0px 1px 2px rgba(60, 64, 67, 0.3), 0px 1px 3px 1px rgba(60, 64, 67, 0.15);\n",
              "    fill: #174EA6;\n",
              "  }\n",
              "\n",
              "  [theme=dark] .colab-df-quickchart {\n",
              "    background-color: #3B4455;\n",
              "    fill: #D2E3FC;\n",
              "  }\n",
              "\n",
              "  [theme=dark] .colab-df-quickchart:hover {\n",
              "    background-color: #434B5C;\n",
              "    box-shadow: 0px 1px 3px 1px rgba(0, 0, 0, 0.15);\n",
              "    filter: drop-shadow(0px 1px 2px rgba(0, 0, 0, 0.3));\n",
              "    fill: #FFFFFF;\n",
              "  }\n",
              "</style>\n",
              "\n",
              "    <script>\n",
              "      async function quickchart(key) {\n",
              "        const containerElement = document.querySelector('#' + key);\n",
              "        const charts = await google.colab.kernel.invokeFunction(\n",
              "            'suggestCharts', [key], {});\n",
              "      }\n",
              "    </script>\n",
              "\n",
              "      <script>\n",
              "\n",
              "function displayQuickchartButton(domScope) {\n",
              "  let quickchartButtonEl =\n",
              "    domScope.querySelector('#df-5e1814f1-6c19-4e50-bb7d-6ae02f8fdff0 button.colab-df-quickchart');\n",
              "  quickchartButtonEl.style.display =\n",
              "    google.colab.kernel.accessAllowed ? 'block' : 'none';\n",
              "}\n",
              "\n",
              "        displayQuickchartButton(document);\n",
              "      </script>\n",
              "      <style>\n",
              "    .colab-df-container {\n",
              "      display:flex;\n",
              "      flex-wrap:wrap;\n",
              "      gap: 12px;\n",
              "    }\n",
              "\n",
              "    .colab-df-convert {\n",
              "      background-color: #E8F0FE;\n",
              "      border: none;\n",
              "      border-radius: 50%;\n",
              "      cursor: pointer;\n",
              "      display: none;\n",
              "      fill: #1967D2;\n",
              "      height: 32px;\n",
              "      padding: 0 0 0 0;\n",
              "      width: 32px;\n",
              "    }\n",
              "\n",
              "    .colab-df-convert:hover {\n",
              "      background-color: #E2EBFA;\n",
              "      box-shadow: 0px 1px 2px rgba(60, 64, 67, 0.3), 0px 1px 3px 1px rgba(60, 64, 67, 0.15);\n",
              "      fill: #174EA6;\n",
              "    }\n",
              "\n",
              "    [theme=dark] .colab-df-convert {\n",
              "      background-color: #3B4455;\n",
              "      fill: #D2E3FC;\n",
              "    }\n",
              "\n",
              "    [theme=dark] .colab-df-convert:hover {\n",
              "      background-color: #434B5C;\n",
              "      box-shadow: 0px 1px 3px 1px rgba(0, 0, 0, 0.15);\n",
              "      filter: drop-shadow(0px 1px 2px rgba(0, 0, 0, 0.3));\n",
              "      fill: #FFFFFF;\n",
              "    }\n",
              "  </style>\n",
              "\n",
              "      <script>\n",
              "        const buttonEl =\n",
              "          document.querySelector('#df-a0b1addc-ebfd-4c21-b5fc-94d3a80777e5 button.colab-df-convert');\n",
              "        buttonEl.style.display =\n",
              "          google.colab.kernel.accessAllowed ? 'block' : 'none';\n",
              "\n",
              "        async function convertToInteractive(key) {\n",
              "          const element = document.querySelector('#df-a0b1addc-ebfd-4c21-b5fc-94d3a80777e5');\n",
              "          const dataTable =\n",
              "            await google.colab.kernel.invokeFunction('convertToInteractive',\n",
              "                                                     [key], {});\n",
              "          if (!dataTable) return;\n",
              "\n",
              "          const docLinkHtml = 'Like what you see? Visit the ' +\n",
              "            '<a target=\"_blank\" href=https://colab.research.google.com/notebooks/data_table.ipynb>data table notebook</a>'\n",
              "            + ' to learn more about interactive tables.';\n",
              "          element.innerHTML = '';\n",
              "          dataTable['output_type'] = 'display_data';\n",
              "          await google.colab.output.renderOutput(dataTable, element);\n",
              "          const docLink = document.createElement('div');\n",
              "          docLink.innerHTML = docLinkHtml;\n",
              "          element.appendChild(docLink);\n",
              "        }\n",
              "      </script>\n",
              "    </div>\n",
              "  </div>\n"
            ]
          },
          "metadata": {},
          "execution_count": 2
        }
      ]
    },
    {
      "cell_type": "markdown",
      "source": [
        "# Exibição e Controle dos Dados"
      ],
      "metadata": {
        "id": "UbuMfuVpCLYW"
      }
    },
    {
      "cell_type": "code",
      "source": [
        "#Transformando os dados\n",
        "data['Date'] = pd.to_datetime(data['Date'])\n",
        "data['Day'] = data['Date'].dt.weekday\n",
        "data['Week'] = data['Date'].dt.week\n",
        "data['Month'] = data['Date'].dt.month\n",
        "data['Year']  = data['Date'].dt.year\n",
        "data.drop('Date',axis=1,inplace=True)\n",
        "data.head()"
      ],
      "metadata": {
        "colab": {
          "base_uri": "https://localhost:8080/",
          "height": 296
        },
        "id": "FwJELa3hCjEc",
        "outputId": "9e95c0ae-2536-4294-dae9-0b343942c1c1"
      },
      "execution_count": null,
      "outputs": [
        {
          "output_type": "stream",
          "name": "stderr",
          "text": [
            "<ipython-input-3-5267a7fe774e>:2: UserWarning: Parsing dates in DD/MM/YYYY format when dayfirst=False (the default) was specified. This may lead to inconsistently parsed dates! Specify a format to ensure consistent parsing.\n",
            "  data['Date'] = pd.to_datetime(data['Date'])\n",
            "<ipython-input-3-5267a7fe774e>:4: FutureWarning: Series.dt.weekofyear and Series.dt.week have been deprecated. Please use Series.dt.isocalendar().week instead.\n",
            "  data['Week'] = data['Date'].dt.week\n"
          ]
        },
        {
          "output_type": "execute_result",
          "data": {
            "text/plain": [
              "   Store  Weekly_Sales  Holiday_Flag  Temperature  Fuel_Price         CPI  \\\n",
              "0      1    1643690.90             0        42.31       2.572  211.096358   \n",
              "1      1    1641957.44             1        38.51       2.548  211.242170   \n",
              "2      1    1611968.17             0        39.93       2.514  211.289143   \n",
              "3      1    1409727.59             0        46.63       2.561  211.319643   \n",
              "4      1    1554806.68             0        46.50       2.625  211.350143   \n",
              "\n",
              "   Unemployment  Day  Week  Month  Year  \n",
              "0         8.106    6    17      5  2010  \n",
              "1         8.106    3    48     12  2010  \n",
              "2         8.106    4     7      2  2010  \n",
              "3         8.106    4     8      2  2010  \n",
              "4         8.106    0    18      5  2010  "
            ],
            "text/html": [
              "\n",
              "\n",
              "  <div id=\"df-9bc31b0d-4aa9-461d-907d-5f25805a5e50\">\n",
              "    <div class=\"colab-df-container\">\n",
              "      <div>\n",
              "<style scoped>\n",
              "    .dataframe tbody tr th:only-of-type {\n",
              "        vertical-align: middle;\n",
              "    }\n",
              "\n",
              "    .dataframe tbody tr th {\n",
              "        vertical-align: top;\n",
              "    }\n",
              "\n",
              "    .dataframe thead th {\n",
              "        text-align: right;\n",
              "    }\n",
              "</style>\n",
              "<table border=\"1\" class=\"dataframe\">\n",
              "  <thead>\n",
              "    <tr style=\"text-align: right;\">\n",
              "      <th></th>\n",
              "      <th>Store</th>\n",
              "      <th>Weekly_Sales</th>\n",
              "      <th>Holiday_Flag</th>\n",
              "      <th>Temperature</th>\n",
              "      <th>Fuel_Price</th>\n",
              "      <th>CPI</th>\n",
              "      <th>Unemployment</th>\n",
              "      <th>Day</th>\n",
              "      <th>Week</th>\n",
              "      <th>Month</th>\n",
              "      <th>Year</th>\n",
              "    </tr>\n",
              "  </thead>\n",
              "  <tbody>\n",
              "    <tr>\n",
              "      <th>0</th>\n",
              "      <td>1</td>\n",
              "      <td>1643690.90</td>\n",
              "      <td>0</td>\n",
              "      <td>42.31</td>\n",
              "      <td>2.572</td>\n",
              "      <td>211.096358</td>\n",
              "      <td>8.106</td>\n",
              "      <td>6</td>\n",
              "      <td>17</td>\n",
              "      <td>5</td>\n",
              "      <td>2010</td>\n",
              "    </tr>\n",
              "    <tr>\n",
              "      <th>1</th>\n",
              "      <td>1</td>\n",
              "      <td>1641957.44</td>\n",
              "      <td>1</td>\n",
              "      <td>38.51</td>\n",
              "      <td>2.548</td>\n",
              "      <td>211.242170</td>\n",
              "      <td>8.106</td>\n",
              "      <td>3</td>\n",
              "      <td>48</td>\n",
              "      <td>12</td>\n",
              "      <td>2010</td>\n",
              "    </tr>\n",
              "    <tr>\n",
              "      <th>2</th>\n",
              "      <td>1</td>\n",
              "      <td>1611968.17</td>\n",
              "      <td>0</td>\n",
              "      <td>39.93</td>\n",
              "      <td>2.514</td>\n",
              "      <td>211.289143</td>\n",
              "      <td>8.106</td>\n",
              "      <td>4</td>\n",
              "      <td>7</td>\n",
              "      <td>2</td>\n",
              "      <td>2010</td>\n",
              "    </tr>\n",
              "    <tr>\n",
              "      <th>3</th>\n",
              "      <td>1</td>\n",
              "      <td>1409727.59</td>\n",
              "      <td>0</td>\n",
              "      <td>46.63</td>\n",
              "      <td>2.561</td>\n",
              "      <td>211.319643</td>\n",
              "      <td>8.106</td>\n",
              "      <td>4</td>\n",
              "      <td>8</td>\n",
              "      <td>2</td>\n",
              "      <td>2010</td>\n",
              "    </tr>\n",
              "    <tr>\n",
              "      <th>4</th>\n",
              "      <td>1</td>\n",
              "      <td>1554806.68</td>\n",
              "      <td>0</td>\n",
              "      <td>46.50</td>\n",
              "      <td>2.625</td>\n",
              "      <td>211.350143</td>\n",
              "      <td>8.106</td>\n",
              "      <td>0</td>\n",
              "      <td>18</td>\n",
              "      <td>5</td>\n",
              "      <td>2010</td>\n",
              "    </tr>\n",
              "  </tbody>\n",
              "</table>\n",
              "</div>\n",
              "      <button class=\"colab-df-convert\" onclick=\"convertToInteractive('df-9bc31b0d-4aa9-461d-907d-5f25805a5e50')\"\n",
              "              title=\"Convert this dataframe to an interactive table.\"\n",
              "              style=\"display:none;\">\n",
              "\n",
              "  <svg xmlns=\"http://www.w3.org/2000/svg\" height=\"24px\"viewBox=\"0 0 24 24\"\n",
              "       width=\"24px\">\n",
              "    <path d=\"M0 0h24v24H0V0z\" fill=\"none\"/>\n",
              "    <path d=\"M18.56 5.44l.94 2.06.94-2.06 2.06-.94-2.06-.94-.94-2.06-.94 2.06-2.06.94zm-11 1L8.5 8.5l.94-2.06 2.06-.94-2.06-.94L8.5 2.5l-.94 2.06-2.06.94zm10 10l.94 2.06.94-2.06 2.06-.94-2.06-.94-.94-2.06-.94 2.06-2.06.94z\"/><path d=\"M17.41 7.96l-1.37-1.37c-.4-.4-.92-.59-1.43-.59-.52 0-1.04.2-1.43.59L10.3 9.45l-7.72 7.72c-.78.78-.78 2.05 0 2.83L4 21.41c.39.39.9.59 1.41.59.51 0 1.02-.2 1.41-.59l7.78-7.78 2.81-2.81c.8-.78.8-2.07 0-2.86zM5.41 20L4 18.59l7.72-7.72 1.47 1.35L5.41 20z\"/>\n",
              "  </svg>\n",
              "      </button>\n",
              "\n",
              "\n",
              "\n",
              "    <div id=\"df-7fd2dfc2-0152-46f3-99eb-0f6a36e823d2\">\n",
              "      <button class=\"colab-df-quickchart\" onclick=\"quickchart('df-7fd2dfc2-0152-46f3-99eb-0f6a36e823d2')\"\n",
              "              title=\"Suggest charts.\"\n",
              "              style=\"display:none;\">\n",
              "\n",
              "<svg xmlns=\"http://www.w3.org/2000/svg\" height=\"24px\"viewBox=\"0 0 24 24\"\n",
              "     width=\"24px\">\n",
              "    <g>\n",
              "        <path d=\"M19 3H5c-1.1 0-2 .9-2 2v14c0 1.1.9 2 2 2h14c1.1 0 2-.9 2-2V5c0-1.1-.9-2-2-2zM9 17H7v-7h2v7zm4 0h-2V7h2v10zm4 0h-2v-4h2v4z\"/>\n",
              "    </g>\n",
              "</svg>\n",
              "      </button>\n",
              "    </div>\n",
              "\n",
              "<style>\n",
              "  .colab-df-quickchart {\n",
              "    background-color: #E8F0FE;\n",
              "    border: none;\n",
              "    border-radius: 50%;\n",
              "    cursor: pointer;\n",
              "    display: none;\n",
              "    fill: #1967D2;\n",
              "    height: 32px;\n",
              "    padding: 0 0 0 0;\n",
              "    width: 32px;\n",
              "  }\n",
              "\n",
              "  .colab-df-quickchart:hover {\n",
              "    background-color: #E2EBFA;\n",
              "    box-shadow: 0px 1px 2px rgba(60, 64, 67, 0.3), 0px 1px 3px 1px rgba(60, 64, 67, 0.15);\n",
              "    fill: #174EA6;\n",
              "  }\n",
              "\n",
              "  [theme=dark] .colab-df-quickchart {\n",
              "    background-color: #3B4455;\n",
              "    fill: #D2E3FC;\n",
              "  }\n",
              "\n",
              "  [theme=dark] .colab-df-quickchart:hover {\n",
              "    background-color: #434B5C;\n",
              "    box-shadow: 0px 1px 3px 1px rgba(0, 0, 0, 0.15);\n",
              "    filter: drop-shadow(0px 1px 2px rgba(0, 0, 0, 0.3));\n",
              "    fill: #FFFFFF;\n",
              "  }\n",
              "</style>\n",
              "\n",
              "    <script>\n",
              "      async function quickchart(key) {\n",
              "        const containerElement = document.querySelector('#' + key);\n",
              "        const charts = await google.colab.kernel.invokeFunction(\n",
              "            'suggestCharts', [key], {});\n",
              "      }\n",
              "    </script>\n",
              "\n",
              "      <script>\n",
              "\n",
              "function displayQuickchartButton(domScope) {\n",
              "  let quickchartButtonEl =\n",
              "    domScope.querySelector('#df-7fd2dfc2-0152-46f3-99eb-0f6a36e823d2 button.colab-df-quickchart');\n",
              "  quickchartButtonEl.style.display =\n",
              "    google.colab.kernel.accessAllowed ? 'block' : 'none';\n",
              "}\n",
              "\n",
              "        displayQuickchartButton(document);\n",
              "      </script>\n",
              "      <style>\n",
              "    .colab-df-container {\n",
              "      display:flex;\n",
              "      flex-wrap:wrap;\n",
              "      gap: 12px;\n",
              "    }\n",
              "\n",
              "    .colab-df-convert {\n",
              "      background-color: #E8F0FE;\n",
              "      border: none;\n",
              "      border-radius: 50%;\n",
              "      cursor: pointer;\n",
              "      display: none;\n",
              "      fill: #1967D2;\n",
              "      height: 32px;\n",
              "      padding: 0 0 0 0;\n",
              "      width: 32px;\n",
              "    }\n",
              "\n",
              "    .colab-df-convert:hover {\n",
              "      background-color: #E2EBFA;\n",
              "      box-shadow: 0px 1px 2px rgba(60, 64, 67, 0.3), 0px 1px 3px 1px rgba(60, 64, 67, 0.15);\n",
              "      fill: #174EA6;\n",
              "    }\n",
              "\n",
              "    [theme=dark] .colab-df-convert {\n",
              "      background-color: #3B4455;\n",
              "      fill: #D2E3FC;\n",
              "    }\n",
              "\n",
              "    [theme=dark] .colab-df-convert:hover {\n",
              "      background-color: #434B5C;\n",
              "      box-shadow: 0px 1px 3px 1px rgba(0, 0, 0, 0.15);\n",
              "      filter: drop-shadow(0px 1px 2px rgba(0, 0, 0, 0.3));\n",
              "      fill: #FFFFFF;\n",
              "    }\n",
              "  </style>\n",
              "\n",
              "      <script>\n",
              "        const buttonEl =\n",
              "          document.querySelector('#df-9bc31b0d-4aa9-461d-907d-5f25805a5e50 button.colab-df-convert');\n",
              "        buttonEl.style.display =\n",
              "          google.colab.kernel.accessAllowed ? 'block' : 'none';\n",
              "\n",
              "        async function convertToInteractive(key) {\n",
              "          const element = document.querySelector('#df-9bc31b0d-4aa9-461d-907d-5f25805a5e50');\n",
              "          const dataTable =\n",
              "            await google.colab.kernel.invokeFunction('convertToInteractive',\n",
              "                                                     [key], {});\n",
              "          if (!dataTable) return;\n",
              "\n",
              "          const docLinkHtml = 'Like what you see? Visit the ' +\n",
              "            '<a target=\"_blank\" href=https://colab.research.google.com/notebooks/data_table.ipynb>data table notebook</a>'\n",
              "            + ' to learn more about interactive tables.';\n",
              "          element.innerHTML = '';\n",
              "          dataTable['output_type'] = 'display_data';\n",
              "          await google.colab.output.renderOutput(dataTable, element);\n",
              "          const docLink = document.createElement('div');\n",
              "          docLink.innerHTML = docLinkHtml;\n",
              "          element.appendChild(docLink);\n",
              "        }\n",
              "      </script>\n",
              "    </div>\n",
              "  </div>\n"
            ]
          },
          "metadata": {},
          "execution_count": 3
        }
      ]
    },
    {
      "cell_type": "code",
      "source": [
        "# Exibindo  dimensao da base de dados\n",
        "print(\"Dimensão dos dados:\")\n",
        "print(\"Linhas (Instâncias):{}\".format(data.shape[0]))\n",
        "print(\"Colunas (Atributos):{}\".format(data.shape[1]))"
      ],
      "metadata": {
        "colab": {
          "base_uri": "https://localhost:8080/"
        },
        "id": "bxmAA4BJAu3n",
        "outputId": "23fdd03b-ade3-4d48-dd4b-01741af9c111"
      },
      "execution_count": null,
      "outputs": [
        {
          "output_type": "stream",
          "name": "stdout",
          "text": [
            "Dimensão dos dados:\n",
            "Linhas (Instâncias):6435\n",
            "Colunas (Atributos):11\n"
          ]
        }
      ]
    },
    {
      "cell_type": "code",
      "source": [
        "#Verificando/Manuseando a existencia de valores nulos\n",
        "data.isnull().sum()"
      ],
      "metadata": {
        "colab": {
          "base_uri": "https://localhost:8080/"
        },
        "id": "MqqFJ6-ll3yZ",
        "outputId": "278d7c78-c207-40cc-fd62-554f6468a31c"
      },
      "execution_count": null,
      "outputs": [
        {
          "output_type": "execute_result",
          "data": {
            "text/plain": [
              "Store           0\n",
              "Weekly_Sales    0\n",
              "Holiday_Flag    0\n",
              "Temperature     0\n",
              "Fuel_Price      0\n",
              "CPI             0\n",
              "Unemployment    0\n",
              "Day             0\n",
              "Week            0\n",
              "Month           0\n",
              "Year            0\n",
              "dtype: int64"
            ]
          },
          "metadata": {},
          "execution_count": 5
        }
      ]
    },
    {
      "cell_type": "code",
      "source": [
        "# Importando bibliotecas\n",
        "from sklearn.metrics import accuracy_score, recall_score, precision_score, f1_score, confusion_matrix, classification_report\n",
        "from sklearn.metrics import r2_score\n",
        "\n",
        "# Separando os dados em features e target\n",
        "features = data.drop('Weekly_Sales', axis=1)\n",
        "target = data['Weekly_Sales']\n",
        "\n",
        "# Aplicando a funcao train_test_split para dividir o conjunto original em 75% para treindo e 25% para teste\n",
        "features_train, features_test, target_train, target_test = train_test_split(features, target, test_size=0.25, random_state=1)\n",
        "\n",
        "print('Tamanho Features Treinamento: ', len(features_train))\n",
        "print('Tamanho Features Teste: ', len(features_test))\n",
        "print('Tamanho Saída Desejada Treinamento: ', len(target_train))\n",
        "print('Tamanho Saída Desejada Teste: ', len(target_test))"
      ],
      "metadata": {
        "colab": {
          "base_uri": "https://localhost:8080/"
        },
        "id": "AuKJtR9c06iz",
        "outputId": "1a2dfacd-95e3-4138-baaf-a08f52cf6627"
      },
      "execution_count": null,
      "outputs": [
        {
          "output_type": "stream",
          "name": "stdout",
          "text": [
            "Tamanho Features Treinamento:  4826\n",
            "Tamanho Features Teste:  1609\n",
            "Tamanho Saída Desejada Treinamento:  4826\n",
            "Tamanho Saída Desejada Teste:  1609\n"
          ]
        }
      ]
    },
    {
      "cell_type": "code",
      "source": [
        "#Como precisamos de dividir o modelo de treinamento em 4 partes vamos fazer divisões por dois sucessivas para obter isso\n",
        "features_um, features_dois, target_um, target_dois= train_test_split(features_train, target_train, test_size=0.5, random_state=1)\n",
        "print('Tamanho features 1: ',len(features_um))\n",
        "print('Tamanho features 2: ',len(features_dois))\n",
        "print('Tamanho saida 1: ',len(target_um))\n",
        "print('Tamanho saida 2: ',len(target_dois))"
      ],
      "metadata": {
        "colab": {
          "base_uri": "https://localhost:8080/"
        },
        "id": "fBmA3IdS1E7Q",
        "outputId": "116e7a86-b8c5-435c-c31d-c4fbd263fb6a"
      },
      "execution_count": null,
      "outputs": [
        {
          "output_type": "stream",
          "name": "stdout",
          "text": [
            "Tamanho features 1:  2413\n",
            "Tamanho features 2:  2413\n",
            "Tamanho saida 1:  2413\n",
            "Tamanho saida 2:  2413\n"
          ]
        }
      ]
    },
    {
      "cell_type": "code",
      "source": [
        "#Agora iremos dividir os dois grupos obtidos na iteração passada por dois, obtendo quatro grupos diferentes\n",
        "features_um, features_tres, target_um, target_tres= train_test_split(features_um,target_um, test_size=0.5, random_state=1)\n",
        "features_dois, features_quatro, target_dois, target_quatro= train_test_split(features_dois, target_dois, test_size=0.5, random_state=1)\n",
        "print('Tamanho features 1: ',len(features_um))\n",
        "print('Tamanho features 2: ',len(features_tres))\n",
        "print('Tamanho features 3: ',len(features_dois))\n",
        "print('Tamanho features 4: ',len(features_quatro))\n",
        "print('-----------------------')\n",
        "print('Tamanho target 1: ',len(target_um))\n",
        "print('Tamanho target 2: ',len(target_tres))\n",
        "print('Tamanho target 3: ',len(target_dois))\n",
        "print('Tamanho target 4: ',len(target_quatro))"
      ],
      "metadata": {
        "colab": {
          "base_uri": "https://localhost:8080/"
        },
        "id": "lCoOj3Pn1HzT",
        "outputId": "31286eb4-88f2-4350-cbeb-dff82ba4d0ba"
      },
      "execution_count": null,
      "outputs": [
        {
          "output_type": "stream",
          "name": "stdout",
          "text": [
            "Tamanho features 1:  1206\n",
            "Tamanho features 2:  1207\n",
            "Tamanho features 3:  1206\n",
            "Tamanho features 4:  1207\n",
            "-----------------------\n",
            "Tamanho target 1:  1206\n",
            "Tamanho target 2:  1207\n",
            "Tamanho target 3:  1206\n",
            "Tamanho target 4:  1207\n"
          ]
        }
      ]
    },
    {
      "cell_type": "markdown",
      "source": [
        "# XGBoost"
      ],
      "metadata": {
        "id": "noTI7P1HCVVZ"
      }
    },
    {
      "cell_type": "code",
      "source": [
        "# Importando bibliotecas\n",
        "from sklearn.model_selection import GridSearchCV\n",
        "import xgboost as xgb\n",
        "from xgboost import XGBRegressor\n",
        "\n",
        "# Definir parametros para a busca em grade\n",
        "param_grid = {\n",
        "    'max_depth': [3, 5],\n",
        "    'learning_rate': [0.1, 0.05],\n",
        "    'n_estimators': [100, 200]\n",
        "}\n",
        "\n",
        "# Lista para armazenar os resultados dos modelos, vamos armazenar os melhores\n",
        "resultados = []\n",
        "\n",
        "# Armazenando cada conjunto em uma array para fazer o loop\n",
        "subconjuntos_features = [features_um, features_dois, features_tres, features_quatro]\n",
        "subconjuntos_target = [target_um, target_dois, target_tres, target_quatro]\n",
        "\n",
        "# Loop pelos subconjuntos de treinamento\n",
        "for i in range(len(subconjuntos_features)):\n",
        "    X_train = subconjuntos_features[i]\n",
        "    y_train = subconjuntos_target[i]\n",
        "\n",
        "    # Realizar busca em grade para encontrar a melhor combinação de parametros\n",
        "    buscaGrade = GridSearchCV(XGBRegressor(), param_grid, cv=3)\n",
        "    buscaGrade.fit(X_train, y_train)\n",
        "\n",
        "    # Obter os melhores parametros encontrados e a melhor pontuação\n",
        "    melhorParam = buscaGrade.best_params_\n",
        "    melhorPont = buscaGrade.best_score_\n",
        "\n",
        "    model = XGBRegressor(**melhorParam)\n",
        "    model.fit(X_train, y_train)\n",
        "\n",
        "    # Armazenar os resultados\n",
        "    resultados.append((melhorParam, melhorPont))\n",
        "\n",
        "# Exibir os resultados\n",
        "for i in range(len(resultados)):\n",
        "    print(f\"Resultados para subconjunto de treinamento {i+1}:\")\n",
        "    print(\"Melhores parâmetros:\", resultados[i][0])\n",
        "    print(\"Melhor pontuação:\", resultados[i][1])\n",
        "    print()"
      ],
      "metadata": {
        "colab": {
          "base_uri": "https://localhost:8080/"
        },
        "id": "CdpHm5P01bM3",
        "outputId": "3ce04968-e163-40eb-e76b-e366f0518b2d"
      },
      "execution_count": null,
      "outputs": [
        {
          "output_type": "stream",
          "name": "stdout",
          "text": [
            "Resultados para subconjunto de treinamento 1:\n",
            "Melhores parâmetros: {'learning_rate': 0.1, 'max_depth': 5, 'n_estimators': 200}\n",
            "Melhor pontuação: 0.9316528328638807\n",
            "\n",
            "Resultados para subconjunto de treinamento 2:\n",
            "Melhores parâmetros: {'learning_rate': 0.1, 'max_depth': 5, 'n_estimators': 200}\n",
            "Melhor pontuação: 0.9368904526082873\n",
            "\n",
            "Resultados para subconjunto de treinamento 3:\n",
            "Melhores parâmetros: {'learning_rate': 0.1, 'max_depth': 5, 'n_estimators': 200}\n",
            "Melhor pontuação: 0.9129264077229405\n",
            "\n",
            "Resultados para subconjunto de treinamento 4:\n",
            "Melhores parâmetros: {'learning_rate': 0.1, 'max_depth': 5, 'n_estimators': 200}\n",
            "Melhor pontuação: 0.9130569709399232\n",
            "\n"
          ]
        }
      ]
    },
    {
      "cell_type": "markdown",
      "source": [
        "# Testando o Modelo"
      ],
      "metadata": {
        "id": "_gc1XR-m5a3U"
      }
    },
    {
      "cell_type": "code",
      "source": [
        "# Importando bibliotecas\n",
        "from sklearn.tree import DecisionTreeRegressor\n",
        "import matplotlib.pyplot as plt\n",
        "import numpy as np\n",
        "from sklearn import metrics\n",
        "\n",
        "# Loop pelos subconjuntos de teste\n",
        "for i in range(4):\n",
        "\n",
        "    # Criar o classificador de árvore de decisão com os melhores parâmetros encontrados\n",
        "    classificador = XGBRegressor(**resultados[i][0])\n",
        "\n",
        "    # Treinar o classificador com o conjunto de treinamento correspondente\n",
        "    classificador.fit(subconjuntos_features[i], subconjuntos_target[i])\n",
        "\n",
        "    # Fazer previsões no conjunto de teste\n",
        "    y_pred = classificador.predict(features_test)\n",
        "\n",
        "    # Cálculo das métricas de avaliação\n",
        "    mse = metrics.mean_squared_error(target_test, y_pred)\n",
        "    rmse = np.sqrt(mse)\n",
        "    mae = metrics.mean_absolute_error(target_test, y_pred)\n",
        "    mape = np.mean(np.abs((target_test - y_pred) / target_test)) * 100\n",
        "    r2 = metrics.r2_score(target_test, y_pred)\n",
        "\n",
        "    # Exibição dos resultados\n",
        "    print(f\"Resultados para subconjunto de teste {i+1}:\")\n",
        "    print(\"Melhores parâmetros:\", resultados[i][0])\n",
        "    print(\"Erro médio quadrado (MSE):\", mse)\n",
        "    print(\"Raiz quadrada do erro médio quadrado (RMSE):\", rmse)\n",
        "    print(\"Erro médio absoluto (MAE):\", mae)\n",
        "    print(\"Mean Absolute Percentage Error (MAPE):\", mape)\n",
        "    print(\"Coeficiente de determinação (R²):\", r2)\n",
        "    print()\n"
      ],
      "metadata": {
        "colab": {
          "base_uri": "https://localhost:8080/"
        },
        "id": "jzVIf4a75Y2O",
        "outputId": "a60ac526-41b8-4dd3-8507-0833458c72f9"
      },
      "execution_count": null,
      "outputs": [
        {
          "output_type": "stream",
          "name": "stdout",
          "text": [
            "Resultados para subconjunto de teste 1:\n",
            "Melhores parâmetros: {'learning_rate': 0.1, 'max_depth': 5, 'n_estimators': 200}\n",
            "Erro médio quadrado (MSE): 20152124853.960583\n",
            "Raiz quadrada do erro médio quadrado (RMSE): 141958.17994733725\n",
            "Erro médio absoluto (MAE): 80114.24863346799\n",
            "Mean Absolute Percentage Error (MAPE): 9.030848401235406\n",
            "Coeficiente de determinação (R²): 0.9386005176103875\n",
            "\n",
            "Resultados para subconjunto de teste 2:\n",
            "Melhores parâmetros: {'learning_rate': 0.1, 'max_depth': 5, 'n_estimators': 200}\n",
            "Erro médio quadrado (MSE): 18545502273.161015\n",
            "Raiz quadrada do erro médio quadrado (RMSE): 136181.87204309175\n",
            "Erro médio absoluto (MAE): 78305.54069414231\n",
            "Mean Absolute Percentage Error (MAPE): 8.421840448551803\n",
            "Coeficiente de determinação (R²): 0.9434955743635304\n",
            "\n",
            "Resultados para subconjunto de teste 3:\n",
            "Melhores parâmetros: {'learning_rate': 0.1, 'max_depth': 5, 'n_estimators': 200}\n",
            "Erro médio quadrado (MSE): 18086935310.495903\n",
            "Raiz quadrada do erro médio quadrado (RMSE): 134487.6771696794\n",
            "Erro médio absoluto (MAE): 77683.45180624613\n",
            "Mean Absolute Percentage Error (MAPE): 8.677125794521071\n",
            "Coeficiente de determinação (R²): 0.9448927359210662\n",
            "\n",
            "Resultados para subconjunto de teste 4:\n",
            "Melhores parâmetros: {'learning_rate': 0.1, 'max_depth': 5, 'n_estimators': 200}\n",
            "Erro médio quadrado (MSE): 13891984701.758759\n",
            "Raiz quadrada do erro médio quadrado (RMSE): 117864.2638875701\n",
            "Erro médio absoluto (MAE): 72657.63975683655\n",
            "Mean Absolute Percentage Error (MAPE): 7.980213791544788\n",
            "Coeficiente de determinação (R²): 0.957673909017849\n",
            "\n"
          ]
        }
      ]
    },
    {
      "cell_type": "markdown",
      "source": [
        "# Árvore de Decisão"
      ],
      "metadata": {
        "id": "H2guegLbxRub"
      }
    },
    {
      "cell_type": "markdown",
      "source": [
        "Estrutura na qual cada nó interno representa um \"teste\" em um atributo do banco de dados"
      ],
      "metadata": {
        "id": "IuJl5IqfxVBi"
      }
    },
    {
      "cell_type": "code",
      "source": [],
      "metadata": {
        "id": "NCTVAwPBxb_Q"
      },
      "execution_count": null,
      "outputs": []
    }
  ]
}